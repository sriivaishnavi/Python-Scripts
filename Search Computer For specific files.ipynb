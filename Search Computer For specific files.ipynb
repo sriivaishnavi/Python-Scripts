{
 "cells": [
  {
   "cell_type": "code",
   "execution_count": 10,
   "metadata": {},
   "outputs": [
    {
     "name": "stdout",
     "output_type": "stream",
     "text": [
      "['C:\\\\Program Files\\\\BurpSuiteCommunity\\\\.install4j\\\\i4j_extf_2_1ov2nc9_vnonqh.png', 'C:\\\\Program Files\\\\BurpSuiteCommunity\\\\.install4j\\\\i4j_extf_3_1ov2nc9_19hpwiu.png', 'C:\\\\Program Files\\\\BurpSuiteCommunity\\\\.install4j\\\\i4j_extf_4_1ov2nc9_hkzf53.png', 'C:\\\\Program Files\\\\BurpSuiteCommunity\\\\.install4j\\\\i4j_extf_5_1ov2nc9_117clth.png', 'C:\\\\Program Files\\\\BurpSuiteCommunity\\\\.install4j\\\\i4j_extf_6_1ov2nc9_15fo9vk.png', 'C:\\\\Program Files\\\\Mozilla Firefox\\\\browser\\\\VisualElements\\\\VisualElements_150.png', 'C:\\\\Program Files\\\\Mozilla Firefox\\\\browser\\\\VisualElements\\\\VisualElements_70.png', 'C:\\\\Program Files\\\\rempl\\\\toastlogo.png', 'C:\\\\Program Files\\\\Windows Defender\\\\Defendericon.png', 'C:\\\\Program Files\\\\Windows Media Player\\\\Media Renderer\\\\DMR_120.jpg', 'C:\\\\Program Files\\\\Windows Media Player\\\\Media Renderer\\\\DMR_48.jpg', 'C:\\\\Program Files\\\\Windows Media Player\\\\Media Renderer\\\\DMR_120.png', 'C:\\\\Program Files\\\\Windows Media Player\\\\Media Renderer\\\\DMR_48.png', 'C:\\\\Program Files\\\\Windows Media Player\\\\Network Sharing\\\\wmpnss_color120.jpg', 'C:\\\\Program Files\\\\Windows Media Player\\\\Network Sharing\\\\wmpnss_color32.jpg', 'C:\\\\Program Files\\\\Windows Media Player\\\\Network Sharing\\\\wmpnss_color48.jpg', 'C:\\\\Program Files\\\\Windows Media Player\\\\Network Sharing\\\\wmpnss_color120.png', 'C:\\\\Program Files\\\\Windows Media Player\\\\Network Sharing\\\\wmpnss_color48.png']\n"
     ]
    }
   ],
   "source": [
    "#using fnmatch & os.walk to search image fiels in computer\n",
    "import fnmatch\n",
    "import os\n",
    "\n",
    "images = ['*.jpg', '*.jpeg', '*.png', '*.tif', '*.tiff']\n",
    "matches = []\n",
    "\n",
    "for root, dirs, files in os.walk(\"C:\\Program Files\"):\n",
    "    for extensions in images:\n",
    "        for filename in fnmatch.filter(files, extensions):\n",
    "            matches.append(os.path.join(root, filename))\n",
    "\n",
    "print(matches)"
   ]
  },
  {
   "cell_type": "code",
   "execution_count": null,
   "metadata": {},
   "outputs": [],
   "source": []
  }
 ],
 "metadata": {
  "kernelspec": {
   "display_name": "Python 3",
   "language": "python",
   "name": "python3"
  },
  "language_info": {
   "codemirror_mode": {
    "name": "ipython",
    "version": 3
   },
   "file_extension": ".py",
   "mimetype": "text/x-python",
   "name": "python",
   "nbconvert_exporter": "python",
   "pygments_lexer": "ipython3",
   "version": "3.7.1"
  }
 },
 "nbformat": 4,
 "nbformat_minor": 2
}
